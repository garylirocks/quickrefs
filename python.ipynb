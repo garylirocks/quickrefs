{
 "cells": [
  {
   "cell_type": "markdown",
   "metadata": {},
   "source": [
    "# Python"
   ]
  },
  {
   "cell_type": "markdown",
   "metadata": {},
   "source": [
    "## List"
   ]
  },
  {
   "cell_type": "code",
   "execution_count": 23,
   "metadata": {},
   "outputs": [
    {
     "name": "stdout",
     "output_type": "stream",
     "text": [
      "appended: [1, 2, 3, 4]\n",
      "copied: [1, 2, 3, 4]\n"
     ]
    }
   ],
   "source": [
    "# append items to a list\n",
    "x = [1, 2]\n",
    "y = x + [3, 4]\n",
    "\n",
    "# Copy a list\n",
    "z = y[:]\n",
    "\n",
    "print('appended:', y)\n",
    "print('copied:', y)"
   ]
  },
  {
   "cell_type": "code",
   "execution_count": 24,
   "metadata": {},
   "outputs": [
    {
     "data": {
      "text/plain": [
       "[0, 3, 0, 3]"
      ]
     },
     "execution_count": 24,
     "metadata": {},
     "output_type": "execute_result"
    }
   ],
   "source": [
    "# multiply a list:\n",
    "a = [0, 3]\n",
    "a * 2"
   ]
  },
  {
   "cell_type": "code",
   "execution_count": 34,
   "metadata": {},
   "outputs": [
    {
     "name": "stdout",
     "output_type": "stream",
     "text": [
      "original: [[0], 1]\n",
      "shallow: [[0], 1]\n",
      "deep: [[0], 1]\n"
     ]
    }
   ],
   "source": [
    "# by default, nested list are copied by reference, use `copy.deepcopy()` to make a deep copy:\n",
    "original = [[0], 1]\n",
    "shallow = original[:]\n",
    "\n",
    "import copy\n",
    "deep = copy.deepcopy(original)\n",
    "\n",
    "print('original:', original)\n",
    "print('shallow:', shallow)\n",
    "print('deep:', deep)"
   ]
  },
  {
   "cell_type": "code",
   "execution_count": 35,
   "metadata": {},
   "outputs": [
    {
     "name": "stdout",
     "output_type": "stream",
     "text": [
      "When you change original, shallow changes as well, deep not affected\n",
      "\n",
      "original: [['new value'], 1]\n",
      "shallow: [['new value'], 1]\n",
      "deep: [[0], 1]\n"
     ]
    }
   ],
   "source": [
    "# Update shallow\n",
    "original[0][0] = 'new value'\n",
    "\n",
    "print('When you change original, shallow changes as well, deep not affected\\n')\n",
    "print('original:', original)\n",
    "print('shallow:', shallow)\n",
    "print('deep:', deep)"
   ]
  }
 ],
 "metadata": {
  "kernelspec": {
   "display_name": "Python 3",
   "language": "python",
   "name": "python3"
  },
  "language_info": {
   "codemirror_mode": {
    "name": "ipython",
    "version": 3
   },
   "file_extension": ".py",
   "mimetype": "text/x-python",
   "name": "python",
   "nbconvert_exporter": "python",
   "pygments_lexer": "ipython3",
   "version": "3.8.10"
  }
 },
 "nbformat": 4,
 "nbformat_minor": 2
}
